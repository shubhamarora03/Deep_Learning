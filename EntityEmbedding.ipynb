{
  "nbformat": 4,
  "nbformat_minor": 0,
  "metadata": {
    "colab": {
      "name": "EntityEmbedding.ipynb",
      "provenance": [],
      "collapsed_sections": [],
      "machine_shape": "hm",
      "mount_file_id": "1TQYAmpNrXEy9f2zH-yIS495ygZIXps_b",
      "authorship_tag": "ABX9TyOP/gl2Z4n3dzndD69YxWZA",
      "include_colab_link": true
    },
    "kernelspec": {
      "name": "python3",
      "display_name": "Python 3"
    },
    "accelerator": "GPU"
  },
  "cells": [
    {
      "cell_type": "markdown",
      "metadata": {
        "id": "view-in-github",
        "colab_type": "text"
      },
      "source": [
        "<a href=\"https://colab.research.google.com/github/shubhamarora03/Deep_Learning/blob/master/EntityEmbedding.ipynb\" target=\"_parent\"><img src=\"https://colab.research.google.com/assets/colab-badge.svg\" alt=\"Open In Colab\"/></a>"
      ]
    },
    {
      "cell_type": "code",
      "metadata": {
        "id": "XqgwHp2SeKjY",
        "colab_type": "code",
        "outputId": "65bed5d4-0020-49ca-dcab-1a5abe3adf33",
        "colab": {
          "base_uri": "https://localhost:8080/",
          "height": 34
        }
      },
      "source": [
        "from google.colab import drive\n",
        "drive.mount('/content/drive')"
      ],
      "execution_count": 0,
      "outputs": [
        {
          "output_type": "stream",
          "text": [
            "Drive already mounted at /content/drive; to attempt to forcibly remount, call drive.mount(\"/content/drive\", force_remount=True).\n"
          ],
          "name": "stdout"
        }
      ]
    },
    {
      "cell_type": "code",
      "metadata": {
        "id": "XpFtMlDKePP6",
        "colab_type": "code",
        "colab": {}
      },
      "source": [
        "import pandas as pd\n",
        "import numpy as np\n",
        "from sklearn import preprocessing"
      ],
      "execution_count": 0,
      "outputs": []
    },
    {
      "cell_type": "code",
      "metadata": {
        "id": "SBfV19aZpXnW",
        "colab_type": "code",
        "colab": {}
      },
      "source": [
        "import tensorflow as tf\n",
        "from tensorflow.keras import layers\n",
        "from tensorflow.keras import optimizers\n",
        "from tensorflow.keras.models import Model"
      ],
      "execution_count": 0,
      "outputs": []
    },
    {
      "cell_type": "code",
      "metadata": {
        "id": "SWyGY8baefuy",
        "colab_type": "code",
        "colab": {}
      },
      "source": [
        "train=pd.read_csv(\"./drive/My Drive/Data/train.csv\")\n",
        "test =pd.read_csv(\"./drive/My Drive/Data/test.csv\")"
      ],
      "execution_count": 0,
      "outputs": []
    },
    {
      "cell_type": "code",
      "metadata": {
        "id": "VArw7W3f1N9g",
        "colab_type": "code",
        "outputId": "5603fc65-a596-40c0-8514-c8ee38e80f0c",
        "colab": {
          "base_uri": "https://localhost:8080/",
          "height": 34
        }
      },
      "source": [
        "train.target.unique()"
      ],
      "execution_count": 4,
      "outputs": [
        {
          "output_type": "execute_result",
          "data": {
            "text/plain": [
              "array([0, 1])"
            ]
          },
          "metadata": {
            "tags": []
          },
          "execution_count": 4
        }
      ]
    },
    {
      "cell_type": "code",
      "metadata": {
        "id": "QkqjxEXlg4HL",
        "colab_type": "code",
        "outputId": "86b3199f-3974-4a24-e967-3058e1409df9",
        "colab": {
          "base_uri": "https://localhost:8080/",
          "height": 249
        }
      },
      "source": [
        "train.head()"
      ],
      "execution_count": 5,
      "outputs": [
        {
          "output_type": "execute_result",
          "data": {
            "text/html": [
              "<div>\n",
              "<style scoped>\n",
              "    .dataframe tbody tr th:only-of-type {\n",
              "        vertical-align: middle;\n",
              "    }\n",
              "\n",
              "    .dataframe tbody tr th {\n",
              "        vertical-align: top;\n",
              "    }\n",
              "\n",
              "    .dataframe thead th {\n",
              "        text-align: right;\n",
              "    }\n",
              "</style>\n",
              "<table border=\"1\" class=\"dataframe\">\n",
              "  <thead>\n",
              "    <tr style=\"text-align: right;\">\n",
              "      <th></th>\n",
              "      <th>id</th>\n",
              "      <th>bin_0</th>\n",
              "      <th>bin_1</th>\n",
              "      <th>bin_2</th>\n",
              "      <th>bin_3</th>\n",
              "      <th>bin_4</th>\n",
              "      <th>nom_0</th>\n",
              "      <th>nom_1</th>\n",
              "      <th>nom_2</th>\n",
              "      <th>nom_3</th>\n",
              "      <th>nom_4</th>\n",
              "      <th>nom_5</th>\n",
              "      <th>nom_6</th>\n",
              "      <th>nom_7</th>\n",
              "      <th>nom_8</th>\n",
              "      <th>nom_9</th>\n",
              "      <th>ord_0</th>\n",
              "      <th>ord_1</th>\n",
              "      <th>ord_2</th>\n",
              "      <th>ord_3</th>\n",
              "      <th>ord_4</th>\n",
              "      <th>ord_5</th>\n",
              "      <th>day</th>\n",
              "      <th>month</th>\n",
              "      <th>target</th>\n",
              "    </tr>\n",
              "  </thead>\n",
              "  <tbody>\n",
              "    <tr>\n",
              "      <th>0</th>\n",
              "      <td>0</td>\n",
              "      <td>0.0</td>\n",
              "      <td>0.0</td>\n",
              "      <td>0.0</td>\n",
              "      <td>F</td>\n",
              "      <td>N</td>\n",
              "      <td>Red</td>\n",
              "      <td>Trapezoid</td>\n",
              "      <td>Hamster</td>\n",
              "      <td>Russia</td>\n",
              "      <td>Bassoon</td>\n",
              "      <td>de4c57ee2</td>\n",
              "      <td>a64bc7ddf</td>\n",
              "      <td>598080a91</td>\n",
              "      <td>0256c7a4b</td>\n",
              "      <td>02e7c8990</td>\n",
              "      <td>3.0</td>\n",
              "      <td>Contributor</td>\n",
              "      <td>Hot</td>\n",
              "      <td>c</td>\n",
              "      <td>U</td>\n",
              "      <td>Pw</td>\n",
              "      <td>6.0</td>\n",
              "      <td>3.0</td>\n",
              "      <td>0</td>\n",
              "    </tr>\n",
              "    <tr>\n",
              "      <th>1</th>\n",
              "      <td>1</td>\n",
              "      <td>1.0</td>\n",
              "      <td>1.0</td>\n",
              "      <td>0.0</td>\n",
              "      <td>F</td>\n",
              "      <td>Y</td>\n",
              "      <td>Red</td>\n",
              "      <td>Star</td>\n",
              "      <td>Axolotl</td>\n",
              "      <td>NaN</td>\n",
              "      <td>Theremin</td>\n",
              "      <td>2bb3c3e5c</td>\n",
              "      <td>3a3a936e8</td>\n",
              "      <td>1dddb8473</td>\n",
              "      <td>52ead350c</td>\n",
              "      <td>f37df64af</td>\n",
              "      <td>3.0</td>\n",
              "      <td>Grandmaster</td>\n",
              "      <td>Warm</td>\n",
              "      <td>e</td>\n",
              "      <td>X</td>\n",
              "      <td>pE</td>\n",
              "      <td>7.0</td>\n",
              "      <td>7.0</td>\n",
              "      <td>0</td>\n",
              "    </tr>\n",
              "    <tr>\n",
              "      <th>2</th>\n",
              "      <td>2</td>\n",
              "      <td>0.0</td>\n",
              "      <td>1.0</td>\n",
              "      <td>0.0</td>\n",
              "      <td>F</td>\n",
              "      <td>N</td>\n",
              "      <td>Red</td>\n",
              "      <td>NaN</td>\n",
              "      <td>Hamster</td>\n",
              "      <td>Canada</td>\n",
              "      <td>Bassoon</td>\n",
              "      <td>b574c9841</td>\n",
              "      <td>708248125</td>\n",
              "      <td>5ddc9a726</td>\n",
              "      <td>745b909d1</td>\n",
              "      <td>NaN</td>\n",
              "      <td>3.0</td>\n",
              "      <td>NaN</td>\n",
              "      <td>Freezing</td>\n",
              "      <td>n</td>\n",
              "      <td>P</td>\n",
              "      <td>eN</td>\n",
              "      <td>5.0</td>\n",
              "      <td>9.0</td>\n",
              "      <td>0</td>\n",
              "    </tr>\n",
              "    <tr>\n",
              "      <th>3</th>\n",
              "      <td>3</td>\n",
              "      <td>NaN</td>\n",
              "      <td>0.0</td>\n",
              "      <td>0.0</td>\n",
              "      <td>F</td>\n",
              "      <td>N</td>\n",
              "      <td>Red</td>\n",
              "      <td>Circle</td>\n",
              "      <td>Hamster</td>\n",
              "      <td>Finland</td>\n",
              "      <td>Theremin</td>\n",
              "      <td>673bdf1f6</td>\n",
              "      <td>23edb8da3</td>\n",
              "      <td>3a33ef960</td>\n",
              "      <td>bdaa56dd1</td>\n",
              "      <td>f9d456e57</td>\n",
              "      <td>1.0</td>\n",
              "      <td>Novice</td>\n",
              "      <td>Lava Hot</td>\n",
              "      <td>a</td>\n",
              "      <td>C</td>\n",
              "      <td>NaN</td>\n",
              "      <td>3.0</td>\n",
              "      <td>3.0</td>\n",
              "      <td>0</td>\n",
              "    </tr>\n",
              "    <tr>\n",
              "      <th>4</th>\n",
              "      <td>4</td>\n",
              "      <td>0.0</td>\n",
              "      <td>NaN</td>\n",
              "      <td>0.0</td>\n",
              "      <td>T</td>\n",
              "      <td>N</td>\n",
              "      <td>Red</td>\n",
              "      <td>Triangle</td>\n",
              "      <td>Hamster</td>\n",
              "      <td>Costa Rica</td>\n",
              "      <td>NaN</td>\n",
              "      <td>777d1ac2c</td>\n",
              "      <td>3a7975e46</td>\n",
              "      <td>bc9cc2a94</td>\n",
              "      <td>NaN</td>\n",
              "      <td>c5361037c</td>\n",
              "      <td>3.0</td>\n",
              "      <td>Grandmaster</td>\n",
              "      <td>Cold</td>\n",
              "      <td>h</td>\n",
              "      <td>C</td>\n",
              "      <td>OZ</td>\n",
              "      <td>5.0</td>\n",
              "      <td>12.0</td>\n",
              "      <td>0</td>\n",
              "    </tr>\n",
              "  </tbody>\n",
              "</table>\n",
              "</div>"
            ],
            "text/plain": [
              "   id  bin_0  bin_1  bin_2 bin_3 bin_4  ... ord_3 ord_4 ord_5  day month target\n",
              "0   0    0.0    0.0    0.0     F     N  ...     c     U    Pw  6.0   3.0      0\n",
              "1   1    1.0    1.0    0.0     F     Y  ...     e     X    pE  7.0   7.0      0\n",
              "2   2    0.0    1.0    0.0     F     N  ...     n     P    eN  5.0   9.0      0\n",
              "3   3    NaN    0.0    0.0     F     N  ...     a     C   NaN  3.0   3.0      0\n",
              "4   4    0.0    NaN    0.0     T     N  ...     h     C    OZ  5.0  12.0      0\n",
              "\n",
              "[5 rows x 25 columns]"
            ]
          },
          "metadata": {
            "tags": []
          },
          "execution_count": 5
        }
      ]
    },
    {
      "cell_type": "code",
      "metadata": {
        "id": "zrCK5nQWiq7v",
        "colab_type": "code",
        "colab": {}
      },
      "source": [
        "test['target']=-1"
      ],
      "execution_count": 0,
      "outputs": []
    },
    {
      "cell_type": "code",
      "metadata": {
        "id": "a7XQpezhxmyX",
        "colab_type": "code",
        "outputId": "910a9c60-8bf1-4ffb-c8c4-12637ac85ae9",
        "colab": {
          "base_uri": "https://localhost:8080/",
          "height": 266
        }
      },
      "source": [
        "test.head()"
      ],
      "execution_count": 7,
      "outputs": [
        {
          "output_type": "execute_result",
          "data": {
            "text/html": [
              "<div>\n",
              "<style scoped>\n",
              "    .dataframe tbody tr th:only-of-type {\n",
              "        vertical-align: middle;\n",
              "    }\n",
              "\n",
              "    .dataframe tbody tr th {\n",
              "        vertical-align: top;\n",
              "    }\n",
              "\n",
              "    .dataframe thead th {\n",
              "        text-align: right;\n",
              "    }\n",
              "</style>\n",
              "<table border=\"1\" class=\"dataframe\">\n",
              "  <thead>\n",
              "    <tr style=\"text-align: right;\">\n",
              "      <th></th>\n",
              "      <th>id</th>\n",
              "      <th>bin_0</th>\n",
              "      <th>bin_1</th>\n",
              "      <th>bin_2</th>\n",
              "      <th>bin_3</th>\n",
              "      <th>bin_4</th>\n",
              "      <th>nom_0</th>\n",
              "      <th>nom_1</th>\n",
              "      <th>nom_2</th>\n",
              "      <th>nom_3</th>\n",
              "      <th>nom_4</th>\n",
              "      <th>nom_5</th>\n",
              "      <th>nom_6</th>\n",
              "      <th>nom_7</th>\n",
              "      <th>nom_8</th>\n",
              "      <th>nom_9</th>\n",
              "      <th>ord_0</th>\n",
              "      <th>ord_1</th>\n",
              "      <th>ord_2</th>\n",
              "      <th>ord_3</th>\n",
              "      <th>ord_4</th>\n",
              "      <th>ord_5</th>\n",
              "      <th>day</th>\n",
              "      <th>month</th>\n",
              "      <th>target</th>\n",
              "    </tr>\n",
              "  </thead>\n",
              "  <tbody>\n",
              "    <tr>\n",
              "      <th>0</th>\n",
              "      <td>600000</td>\n",
              "      <td>0.0</td>\n",
              "      <td>0.0</td>\n",
              "      <td>0.0</td>\n",
              "      <td>F</td>\n",
              "      <td>Y</td>\n",
              "      <td>Blue</td>\n",
              "      <td>Polygon</td>\n",
              "      <td>Axolotl</td>\n",
              "      <td>Finland</td>\n",
              "      <td>Piano</td>\n",
              "      <td>52f6dd16c</td>\n",
              "      <td>147d704e4</td>\n",
              "      <td>8d857a0a1</td>\n",
              "      <td>ca9ad1d4b</td>\n",
              "      <td>fced9e114</td>\n",
              "      <td>3.0</td>\n",
              "      <td>Novice</td>\n",
              "      <td>Boiling Hot</td>\n",
              "      <td>f</td>\n",
              "      <td>U</td>\n",
              "      <td>oU</td>\n",
              "      <td>3.0</td>\n",
              "      <td>9.0</td>\n",
              "      <td>-1</td>\n",
              "    </tr>\n",
              "    <tr>\n",
              "      <th>1</th>\n",
              "      <td>600001</td>\n",
              "      <td>0.0</td>\n",
              "      <td>0.0</td>\n",
              "      <td>0.0</td>\n",
              "      <td>F</td>\n",
              "      <td>Y</td>\n",
              "      <td>Red</td>\n",
              "      <td>Circle</td>\n",
              "      <td>Lion</td>\n",
              "      <td>Russia</td>\n",
              "      <td>Bassoon</td>\n",
              "      <td>691ebeae8</td>\n",
              "      <td>8653dcc2e</td>\n",
              "      <td>67a8d4ebb</td>\n",
              "      <td>060a21580</td>\n",
              "      <td>7ca8775da</td>\n",
              "      <td>1.0</td>\n",
              "      <td>Novice</td>\n",
              "      <td>Cold</td>\n",
              "      <td>n</td>\n",
              "      <td>N</td>\n",
              "      <td>NaN</td>\n",
              "      <td>2.0</td>\n",
              "      <td>8.0</td>\n",
              "      <td>-1</td>\n",
              "    </tr>\n",
              "    <tr>\n",
              "      <th>2</th>\n",
              "      <td>600002</td>\n",
              "      <td>0.0</td>\n",
              "      <td>0.0</td>\n",
              "      <td>0.0</td>\n",
              "      <td>F</td>\n",
              "      <td>Y</td>\n",
              "      <td>Blue</td>\n",
              "      <td>Circle</td>\n",
              "      <td>Axolotl</td>\n",
              "      <td>Russia</td>\n",
              "      <td>Theremin</td>\n",
              "      <td>81f792c16</td>\n",
              "      <td>6cdda499e</td>\n",
              "      <td>69403e18c</td>\n",
              "      <td>165e81a00</td>\n",
              "      <td>5940334c9</td>\n",
              "      <td>1.0</td>\n",
              "      <td>Expert</td>\n",
              "      <td>Warm</td>\n",
              "      <td>i</td>\n",
              "      <td>N</td>\n",
              "      <td>DN</td>\n",
              "      <td>2.0</td>\n",
              "      <td>6.0</td>\n",
              "      <td>-1</td>\n",
              "    </tr>\n",
              "    <tr>\n",
              "      <th>3</th>\n",
              "      <td>600003</td>\n",
              "      <td>1.0</td>\n",
              "      <td>0.0</td>\n",
              "      <td>0.0</td>\n",
              "      <td>F</td>\n",
              "      <td>N</td>\n",
              "      <td>Red</td>\n",
              "      <td>Polygon</td>\n",
              "      <td>Axolotl</td>\n",
              "      <td>Costa Rica</td>\n",
              "      <td>Bassoon</td>\n",
              "      <td>c9134205b</td>\n",
              "      <td>acbca4827</td>\n",
              "      <td>cb681246b</td>\n",
              "      <td>77d41330d</td>\n",
              "      <td>6fbdeefc8</td>\n",
              "      <td>1.0</td>\n",
              "      <td>Expert</td>\n",
              "      <td>Hot</td>\n",
              "      <td>m</td>\n",
              "      <td>B</td>\n",
              "      <td>AG</td>\n",
              "      <td>1.0</td>\n",
              "      <td>6.0</td>\n",
              "      <td>-1</td>\n",
              "    </tr>\n",
              "    <tr>\n",
              "      <th>4</th>\n",
              "      <td>600004</td>\n",
              "      <td>0.0</td>\n",
              "      <td>0.0</td>\n",
              "      <td>1.0</td>\n",
              "      <td>F</td>\n",
              "      <td>Y</td>\n",
              "      <td>Red</td>\n",
              "      <td>Circle</td>\n",
              "      <td>NaN</td>\n",
              "      <td>Finland</td>\n",
              "      <td>Theremin</td>\n",
              "      <td>f0f100f57</td>\n",
              "      <td>6f800b9af</td>\n",
              "      <td>cd9feb5c6</td>\n",
              "      <td>2218d9dfe</td>\n",
              "      <td>2a27c8fde</td>\n",
              "      <td>1.0</td>\n",
              "      <td>Contributor</td>\n",
              "      <td>Lava Hot</td>\n",
              "      <td>o</td>\n",
              "      <td>J</td>\n",
              "      <td>DT</td>\n",
              "      <td>3.0</td>\n",
              "      <td>3.0</td>\n",
              "      <td>-1</td>\n",
              "    </tr>\n",
              "  </tbody>\n",
              "</table>\n",
              "</div>"
            ],
            "text/plain": [
              "       id  bin_0  bin_1  bin_2 bin_3  ... ord_4 ord_5  day month target\n",
              "0  600000    0.0    0.0    0.0     F  ...     U    oU  3.0   9.0     -1\n",
              "1  600001    0.0    0.0    0.0     F  ...     N   NaN  2.0   8.0     -1\n",
              "2  600002    0.0    0.0    0.0     F  ...     N    DN  2.0   6.0     -1\n",
              "3  600003    1.0    0.0    0.0     F  ...     B    AG  1.0   6.0     -1\n",
              "4  600004    0.0    0.0    1.0     F  ...     J    DT  3.0   3.0     -1\n",
              "\n",
              "[5 rows x 25 columns]"
            ]
          },
          "metadata": {
            "tags": []
          },
          "execution_count": 7
        }
      ]
    },
    {
      "cell_type": "code",
      "metadata": {
        "id": "_mLyuTrgkKW9",
        "colab_type": "code",
        "outputId": "ac94d22b-3f62-4aff-f72e-04465fad77f9",
        "colab": {
          "base_uri": "https://localhost:8080/",
          "height": 34
        }
      },
      "source": [
        "train.shape , test.shape"
      ],
      "execution_count": 8,
      "outputs": [
        {
          "output_type": "execute_result",
          "data": {
            "text/plain": [
              "((600000, 25), (400000, 25))"
            ]
          },
          "metadata": {
            "tags": []
          },
          "execution_count": 8
        }
      ]
    },
    {
      "cell_type": "code",
      "metadata": {
        "id": "OoQnCl1IjriS",
        "colab_type": "code",
        "colab": {}
      },
      "source": [
        "full_data = pd.concat([train,test]).reset_index(drop=True)"
      ],
      "execution_count": 0,
      "outputs": []
    },
    {
      "cell_type": "code",
      "metadata": {
        "id": "LigirS8njt-6",
        "colab_type": "code",
        "outputId": "8be8d1ca-3fee-4af0-81f5-4a39b27f624a",
        "colab": {
          "base_uri": "https://localhost:8080/",
          "height": 34
        }
      },
      "source": [
        "full_data.shape"
      ],
      "execution_count": 10,
      "outputs": [
        {
          "output_type": "execute_result",
          "data": {
            "text/plain": [
              "(1000000, 25)"
            ]
          },
          "metadata": {
            "tags": []
          },
          "execution_count": 10
        }
      ]
    },
    {
      "cell_type": "code",
      "metadata": {
        "id": "VsQepvW-kP5F",
        "colab_type": "code",
        "colab": {}
      },
      "source": [
        "features=[f for f in train.columns if f not in [\"id\",\"target\"]]"
      ],
      "execution_count": 0,
      "outputs": []
    },
    {
      "cell_type": "code",
      "metadata": {
        "id": "ND0OIlr2k8hf",
        "colab_type": "code",
        "outputId": "0a40c8e1-c0a8-4534-9d7c-f4d3ed93d8f9",
        "colab": {
          "base_uri": "https://localhost:8080/",
          "height": 403
        }
      },
      "source": [
        "features"
      ],
      "execution_count": 12,
      "outputs": [
        {
          "output_type": "execute_result",
          "data": {
            "text/plain": [
              "['bin_0',\n",
              " 'bin_1',\n",
              " 'bin_2',\n",
              " 'bin_3',\n",
              " 'bin_4',\n",
              " 'nom_0',\n",
              " 'nom_1',\n",
              " 'nom_2',\n",
              " 'nom_3',\n",
              " 'nom_4',\n",
              " 'nom_5',\n",
              " 'nom_6',\n",
              " 'nom_7',\n",
              " 'nom_8',\n",
              " 'nom_9',\n",
              " 'ord_0',\n",
              " 'ord_1',\n",
              " 'ord_2',\n",
              " 'ord_3',\n",
              " 'ord_4',\n",
              " 'ord_5',\n",
              " 'day',\n",
              " 'month']"
            ]
          },
          "metadata": {
            "tags": []
          },
          "execution_count": 12
        }
      ]
    },
    {
      "cell_type": "code",
      "metadata": {
        "id": "HkevV0pKlB39",
        "colab_type": "code",
        "colab": {}
      },
      "source": [
        "for col in features:\n",
        "  full_data.loc[:,col]=full_data.loc[:,col].astype(str).fillna(\"-1\")"
      ],
      "execution_count": 0,
      "outputs": []
    },
    {
      "cell_type": "code",
      "metadata": {
        "id": "9E6tGJTF070p",
        "colab_type": "code",
        "outputId": "6dc44d60-9983-4b82-ab13-57725d04dcc1",
        "colab": {
          "base_uri": "https://localhost:8080/",
          "height": 34
        }
      },
      "source": [
        "full_data.target.unique()"
      ],
      "execution_count": 14,
      "outputs": [
        {
          "output_type": "execute_result",
          "data": {
            "text/plain": [
              "array([ 0,  1, -1])"
            ]
          },
          "metadata": {
            "tags": []
          },
          "execution_count": 14
        }
      ]
    },
    {
      "cell_type": "code",
      "metadata": {
        "id": "08q2eM7xl6L_",
        "colab_type": "code",
        "colab": {}
      },
      "source": [
        "for col in features:\n",
        "  lbl_enc = preprocessing.LabelEncoder()\n",
        "  full_data.loc[:,col] = lbl_enc.fit_transform(full_data[col])"
      ],
      "execution_count": 0,
      "outputs": []
    },
    {
      "cell_type": "code",
      "metadata": {
        "id": "QVPw5ns1nIGl",
        "colab_type": "code",
        "outputId": "e4e39bcb-9f58-471a-c103-0399d4f51e0a",
        "colab": {
          "base_uri": "https://localhost:8080/",
          "height": 195
        }
      },
      "source": [
        "full_data.head()"
      ],
      "execution_count": 0,
      "outputs": [
        {
          "output_type": "execute_result",
          "data": {
            "text/html": [
              "<div>\n",
              "<style scoped>\n",
              "    .dataframe tbody tr th:only-of-type {\n",
              "        vertical-align: middle;\n",
              "    }\n",
              "\n",
              "    .dataframe tbody tr th {\n",
              "        vertical-align: top;\n",
              "    }\n",
              "\n",
              "    .dataframe thead th {\n",
              "        text-align: right;\n",
              "    }\n",
              "</style>\n",
              "<table border=\"1\" class=\"dataframe\">\n",
              "  <thead>\n",
              "    <tr style=\"text-align: right;\">\n",
              "      <th></th>\n",
              "      <th>id</th>\n",
              "      <th>bin_0</th>\n",
              "      <th>bin_1</th>\n",
              "      <th>bin_2</th>\n",
              "      <th>bin_3</th>\n",
              "      <th>bin_4</th>\n",
              "      <th>nom_0</th>\n",
              "      <th>nom_1</th>\n",
              "      <th>nom_2</th>\n",
              "      <th>nom_3</th>\n",
              "      <th>nom_4</th>\n",
              "      <th>nom_5</th>\n",
              "      <th>nom_6</th>\n",
              "      <th>nom_7</th>\n",
              "      <th>nom_8</th>\n",
              "      <th>nom_9</th>\n",
              "      <th>ord_0</th>\n",
              "      <th>ord_1</th>\n",
              "      <th>ord_2</th>\n",
              "      <th>ord_3</th>\n",
              "      <th>ord_4</th>\n",
              "      <th>ord_5</th>\n",
              "      <th>day</th>\n",
              "      <th>month</th>\n",
              "      <th>target</th>\n",
              "    </tr>\n",
              "  </thead>\n",
              "  <tbody>\n",
              "    <tr>\n",
              "      <th>0</th>\n",
              "      <td>0</td>\n",
              "      <td>0</td>\n",
              "      <td>0</td>\n",
              "      <td>0</td>\n",
              "      <td>0</td>\n",
              "      <td>0</td>\n",
              "      <td>2</td>\n",
              "      <td>4</td>\n",
              "      <td>3</td>\n",
              "      <td>5</td>\n",
              "      <td>0</td>\n",
              "      <td>1059</td>\n",
              "      <td>1013</td>\n",
              "      <td>87</td>\n",
              "      <td>1</td>\n",
              "      <td>27</td>\n",
              "      <td>2</td>\n",
              "      <td>0</td>\n",
              "      <td>3</td>\n",
              "      <td>2</td>\n",
              "      <td>20</td>\n",
              "      <td>56</td>\n",
              "      <td>5</td>\n",
              "      <td>5</td>\n",
              "      <td>0</td>\n",
              "    </tr>\n",
              "    <tr>\n",
              "      <th>1</th>\n",
              "      <td>1</td>\n",
              "      <td>1</td>\n",
              "      <td>1</td>\n",
              "      <td>0</td>\n",
              "      <td>0</td>\n",
              "      <td>1</td>\n",
              "      <td>2</td>\n",
              "      <td>3</td>\n",
              "      <td>0</td>\n",
              "      <td>6</td>\n",
              "      <td>3</td>\n",
              "      <td>210</td>\n",
              "      <td>359</td>\n",
              "      <td>27</td>\n",
              "      <td>69</td>\n",
              "      <td>2112</td>\n",
              "      <td>2</td>\n",
              "      <td>2</td>\n",
              "      <td>5</td>\n",
              "      <td>4</td>\n",
              "      <td>23</td>\n",
              "      <td>151</td>\n",
              "      <td>6</td>\n",
              "      <td>9</td>\n",
              "      <td>0</td>\n",
              "    </tr>\n",
              "    <tr>\n",
              "      <th>2</th>\n",
              "      <td>2</td>\n",
              "      <td>0</td>\n",
              "      <td>1</td>\n",
              "      <td>0</td>\n",
              "      <td>0</td>\n",
              "      <td>0</td>\n",
              "      <td>2</td>\n",
              "      <td>6</td>\n",
              "      <td>3</td>\n",
              "      <td>0</td>\n",
              "      <td>0</td>\n",
              "      <td>860</td>\n",
              "      <td>694</td>\n",
              "      <td>90</td>\n",
              "      <td>102</td>\n",
              "      <td>2218</td>\n",
              "      <td>2</td>\n",
              "      <td>5</td>\n",
              "      <td>2</td>\n",
              "      <td>13</td>\n",
              "      <td>15</td>\n",
              "      <td>105</td>\n",
              "      <td>4</td>\n",
              "      <td>11</td>\n",
              "      <td>0</td>\n",
              "    </tr>\n",
              "    <tr>\n",
              "      <th>3</th>\n",
              "      <td>3</td>\n",
              "      <td>2</td>\n",
              "      <td>0</td>\n",
              "      <td>0</td>\n",
              "      <td>0</td>\n",
              "      <td>0</td>\n",
              "      <td>2</td>\n",
              "      <td>0</td>\n",
              "      <td>3</td>\n",
              "      <td>3</td>\n",
              "      <td>3</td>\n",
              "      <td>477</td>\n",
              "      <td>241</td>\n",
              "      <td>51</td>\n",
              "      <td>170</td>\n",
              "      <td>2167</td>\n",
              "      <td>0</td>\n",
              "      <td>4</td>\n",
              "      <td>4</td>\n",
              "      <td>0</td>\n",
              "      <td>2</td>\n",
              "      <td>140</td>\n",
              "      <td>2</td>\n",
              "      <td>5</td>\n",
              "      <td>0</td>\n",
              "    </tr>\n",
              "    <tr>\n",
              "      <th>4</th>\n",
              "      <td>4</td>\n",
              "      <td>0</td>\n",
              "      <td>2</td>\n",
              "      <td>0</td>\n",
              "      <td>1</td>\n",
              "      <td>0</td>\n",
              "      <td>2</td>\n",
              "      <td>5</td>\n",
              "      <td>3</td>\n",
              "      <td>2</td>\n",
              "      <td>4</td>\n",
              "      <td>556</td>\n",
              "      <td>361</td>\n",
              "      <td>182</td>\n",
              "      <td>222</td>\n",
              "      <td>1747</td>\n",
              "      <td>2</td>\n",
              "      <td>2</td>\n",
              "      <td>1</td>\n",
              "      <td>7</td>\n",
              "      <td>2</td>\n",
              "      <td>50</td>\n",
              "      <td>4</td>\n",
              "      <td>3</td>\n",
              "      <td>0</td>\n",
              "    </tr>\n",
              "  </tbody>\n",
              "</table>\n",
              "</div>"
            ],
            "text/plain": [
              "   id  bin_0  bin_1  bin_2  bin_3  ...  ord_4  ord_5  day  month  target\n",
              "0   0      0      0      0      0  ...     20     56    5      5       0\n",
              "1   1      1      1      0      0  ...     23    151    6      9       0\n",
              "2   2      0      1      0      0  ...     15    105    4     11       0\n",
              "3   3      2      0      0      0  ...      2    140    2      5       0\n",
              "4   4      0      2      0      1  ...      2     50    4      3       0\n",
              "\n",
              "[5 rows x 25 columns]"
            ]
          },
          "metadata": {
            "tags": []
          },
          "execution_count": 64
        }
      ]
    },
    {
      "cell_type": "code",
      "metadata": {
        "id": "Os5c2a28nyI7",
        "colab_type": "code",
        "colab": {}
      },
      "source": [
        "train = full_data[full_data.target!=-1].reset_index(drop=True)\n",
        "test  = full_data[full_data.target==-1].reset_index(drop=True)"
      ],
      "execution_count": 0,
      "outputs": []
    },
    {
      "cell_type": "code",
      "metadata": {
        "id": "ngx7Q7fYxYAV",
        "colab_type": "code",
        "outputId": "ee8a7059-8956-4870-ebac-b6d8a6597bc7",
        "colab": {
          "base_uri": "https://localhost:8080/",
          "height": 34
        }
      },
      "source": [
        "train.shape , test.shape"
      ],
      "execution_count": 17,
      "outputs": [
        {
          "output_type": "execute_result",
          "data": {
            "text/plain": [
              "((600000, 25), (400000, 25))"
            ]
          },
          "metadata": {
            "tags": []
          },
          "execution_count": 17
        }
      ]
    },
    {
      "cell_type": "code",
      "metadata": {
        "id": "CGNVwKMMumvD",
        "colab_type": "code",
        "outputId": "e235c4cb-8dc5-4793-8916-d4089b0b4dd5",
        "colab": {
          "base_uri": "https://localhost:8080/",
          "height": 34
        }
      },
      "source": [
        "int(min(np.ceil(1000/2),50))"
      ],
      "execution_count": 18,
      "outputs": [
        {
          "output_type": "execute_result",
          "data": {
            "text/plain": [
              "50"
            ]
          },
          "metadata": {
            "tags": []
          },
          "execution_count": 18
        }
      ]
    },
    {
      "cell_type": "markdown",
      "metadata": {
        "id": "xvGi83YEo3MZ",
        "colab_type": "text"
      },
      "source": [
        "Converting list of list of features"
      ]
    },
    {
      "cell_type": "code",
      "metadata": {
        "id": "posuowUwocrk",
        "colab_type": "code",
        "colab": {}
      },
      "source": [
        "def get_model(df,columns):\n",
        "  inputs=[]\n",
        "  outputs=[]\n",
        "  for c in columns:\n",
        "    num_uniq_values=int(df[c].nunique())\n",
        "    emb_dim = int(min(np.ceil(num_uniq_values/2),50))\n",
        "    #One embedding layer for each variable\n",
        "    inp = layers.Input(shape=(1,))\n",
        "    out = layers.Embedding(num_uniq_values+1,emb_dim)(inp)\n",
        "    out = layers.Reshape(target_shape=(emb_dim,))(out)\n",
        "    #Appending all the categorical inputs\n",
        "    inputs.append(inp)\n",
        "    #Appending all the embeddings\n",
        "    outputs.append(out)\n",
        "  x = layers.Concatenate()(outputs)\n",
        "  x = layers.Dense(300,activation='relu')(x)\n",
        "  x = layers.Dropout(0.3) (x)\n",
        "  y = layers.Dense(1,activation='sigmoid')(x)\n",
        "  model = Model(inputs=inputs,outputs=y)\n",
        "  return model"
      ],
      "execution_count": 0,
      "outputs": []
    },
    {
      "cell_type": "code",
      "metadata": {
        "id": "k616304itSSY",
        "colab_type": "code",
        "outputId": "e98cb1bc-953e-4cef-f01d-7b15e0818c84",
        "colab": {
          "base_uri": "https://localhost:8080/",
          "height": 1000
        }
      },
      "source": [
        "get_model(train,features).summary()"
      ],
      "execution_count": 20,
      "outputs": [
        {
          "output_type": "stream",
          "text": [
            "Model: \"model\"\n",
            "__________________________________________________________________________________________________\n",
            "Layer (type)                    Output Shape         Param #     Connected to                     \n",
            "==================================================================================================\n",
            "input_1 (InputLayer)            [(None, 1)]          0                                            \n",
            "__________________________________________________________________________________________________\n",
            "input_2 (InputLayer)            [(None, 1)]          0                                            \n",
            "__________________________________________________________________________________________________\n",
            "input_3 (InputLayer)            [(None, 1)]          0                                            \n",
            "__________________________________________________________________________________________________\n",
            "input_4 (InputLayer)            [(None, 1)]          0                                            \n",
            "__________________________________________________________________________________________________\n",
            "input_5 (InputLayer)            [(None, 1)]          0                                            \n",
            "__________________________________________________________________________________________________\n",
            "input_6 (InputLayer)            [(None, 1)]          0                                            \n",
            "__________________________________________________________________________________________________\n",
            "input_7 (InputLayer)            [(None, 1)]          0                                            \n",
            "__________________________________________________________________________________________________\n",
            "input_8 (InputLayer)            [(None, 1)]          0                                            \n",
            "__________________________________________________________________________________________________\n",
            "input_9 (InputLayer)            [(None, 1)]          0                                            \n",
            "__________________________________________________________________________________________________\n",
            "input_10 (InputLayer)           [(None, 1)]          0                                            \n",
            "__________________________________________________________________________________________________\n",
            "input_11 (InputLayer)           [(None, 1)]          0                                            \n",
            "__________________________________________________________________________________________________\n",
            "input_12 (InputLayer)           [(None, 1)]          0                                            \n",
            "__________________________________________________________________________________________________\n",
            "input_13 (InputLayer)           [(None, 1)]          0                                            \n",
            "__________________________________________________________________________________________________\n",
            "input_14 (InputLayer)           [(None, 1)]          0                                            \n",
            "__________________________________________________________________________________________________\n",
            "input_15 (InputLayer)           [(None, 1)]          0                                            \n",
            "__________________________________________________________________________________________________\n",
            "input_16 (InputLayer)           [(None, 1)]          0                                            \n",
            "__________________________________________________________________________________________________\n",
            "input_17 (InputLayer)           [(None, 1)]          0                                            \n",
            "__________________________________________________________________________________________________\n",
            "input_18 (InputLayer)           [(None, 1)]          0                                            \n",
            "__________________________________________________________________________________________________\n",
            "input_19 (InputLayer)           [(None, 1)]          0                                            \n",
            "__________________________________________________________________________________________________\n",
            "input_20 (InputLayer)           [(None, 1)]          0                                            \n",
            "__________________________________________________________________________________________________\n",
            "input_21 (InputLayer)           [(None, 1)]          0                                            \n",
            "__________________________________________________________________________________________________\n",
            "input_22 (InputLayer)           [(None, 1)]          0                                            \n",
            "__________________________________________________________________________________________________\n",
            "input_23 (InputLayer)           [(None, 1)]          0                                            \n",
            "__________________________________________________________________________________________________\n",
            "embedding (Embedding)           (None, 1, 2)         8           input_1[0][0]                    \n",
            "__________________________________________________________________________________________________\n",
            "embedding_1 (Embedding)         (None, 1, 2)         8           input_2[0][0]                    \n",
            "__________________________________________________________________________________________________\n",
            "embedding_2 (Embedding)         (None, 1, 2)         8           input_3[0][0]                    \n",
            "__________________________________________________________________________________________________\n",
            "embedding_3 (Embedding)         (None, 1, 2)         8           input_4[0][0]                    \n",
            "__________________________________________________________________________________________________\n",
            "embedding_4 (Embedding)         (None, 1, 2)         8           input_5[0][0]                    \n",
            "__________________________________________________________________________________________________\n",
            "embedding_5 (Embedding)         (None, 1, 2)         10          input_6[0][0]                    \n",
            "__________________________________________________________________________________________________\n",
            "embedding_6 (Embedding)         (None, 1, 4)         32          input_7[0][0]                    \n",
            "__________________________________________________________________________________________________\n",
            "embedding_7 (Embedding)         (None, 1, 4)         32          input_8[0][0]                    \n",
            "__________________________________________________________________________________________________\n",
            "embedding_8 (Embedding)         (None, 1, 4)         32          input_9[0][0]                    \n",
            "__________________________________________________________________________________________________\n",
            "embedding_9 (Embedding)         (None, 1, 3)         18          input_10[0][0]                   \n",
            "__________________________________________________________________________________________________\n",
            "embedding_10 (Embedding)        (None, 1, 50)        61100       input_11[0][0]                   \n",
            "__________________________________________________________________________________________________\n",
            "embedding_11 (Embedding)        (None, 1, 50)        76050       input_12[0][0]                   \n",
            "__________________________________________________________________________________________________\n",
            "embedding_12 (Embedding)        (None, 1, 50)        11200       input_13[0][0]                   \n",
            "__________________________________________________________________________________________________\n",
            "embedding_13 (Embedding)        (None, 1, 50)        11200       input_14[0][0]                   \n",
            "__________________________________________________________________________________________________\n",
            "embedding_14 (Embedding)        (None, 1, 50)        111000      input_15[0][0]                   \n",
            "__________________________________________________________________________________________________\n",
            "embedding_15 (Embedding)        (None, 1, 2)         10          input_16[0][0]                   \n",
            "__________________________________________________________________________________________________\n",
            "embedding_16 (Embedding)        (None, 1, 3)         21          input_17[0][0]                   \n",
            "__________________________________________________________________________________________________\n",
            "embedding_17 (Embedding)        (None, 1, 4)         32          input_18[0][0]                   \n",
            "__________________________________________________________________________________________________\n",
            "embedding_18 (Embedding)        (None, 1, 8)         136         input_19[0][0]                   \n",
            "__________________________________________________________________________________________________\n",
            "embedding_19 (Embedding)        (None, 1, 14)        392         input_20[0][0]                   \n",
            "__________________________________________________________________________________________________\n",
            "embedding_20 (Embedding)        (None, 1, 50)        9600        input_21[0][0]                   \n",
            "__________________________________________________________________________________________________\n",
            "embedding_21 (Embedding)        (None, 1, 4)         36          input_22[0][0]                   \n",
            "__________________________________________________________________________________________________\n",
            "embedding_22 (Embedding)        (None, 1, 7)         98          input_23[0][0]                   \n",
            "__________________________________________________________________________________________________\n",
            "reshape (Reshape)               (None, 2)            0           embedding[0][0]                  \n",
            "__________________________________________________________________________________________________\n",
            "reshape_1 (Reshape)             (None, 2)            0           embedding_1[0][0]                \n",
            "__________________________________________________________________________________________________\n",
            "reshape_2 (Reshape)             (None, 2)            0           embedding_2[0][0]                \n",
            "__________________________________________________________________________________________________\n",
            "reshape_3 (Reshape)             (None, 2)            0           embedding_3[0][0]                \n",
            "__________________________________________________________________________________________________\n",
            "reshape_4 (Reshape)             (None, 2)            0           embedding_4[0][0]                \n",
            "__________________________________________________________________________________________________\n",
            "reshape_5 (Reshape)             (None, 2)            0           embedding_5[0][0]                \n",
            "__________________________________________________________________________________________________\n",
            "reshape_6 (Reshape)             (None, 4)            0           embedding_6[0][0]                \n",
            "__________________________________________________________________________________________________\n",
            "reshape_7 (Reshape)             (None, 4)            0           embedding_7[0][0]                \n",
            "__________________________________________________________________________________________________\n",
            "reshape_8 (Reshape)             (None, 4)            0           embedding_8[0][0]                \n",
            "__________________________________________________________________________________________________\n",
            "reshape_9 (Reshape)             (None, 3)            0           embedding_9[0][0]                \n",
            "__________________________________________________________________________________________________\n",
            "reshape_10 (Reshape)            (None, 50)           0           embedding_10[0][0]               \n",
            "__________________________________________________________________________________________________\n",
            "reshape_11 (Reshape)            (None, 50)           0           embedding_11[0][0]               \n",
            "__________________________________________________________________________________________________\n",
            "reshape_12 (Reshape)            (None, 50)           0           embedding_12[0][0]               \n",
            "__________________________________________________________________________________________________\n",
            "reshape_13 (Reshape)            (None, 50)           0           embedding_13[0][0]               \n",
            "__________________________________________________________________________________________________\n",
            "reshape_14 (Reshape)            (None, 50)           0           embedding_14[0][0]               \n",
            "__________________________________________________________________________________________________\n",
            "reshape_15 (Reshape)            (None, 2)            0           embedding_15[0][0]               \n",
            "__________________________________________________________________________________________________\n",
            "reshape_16 (Reshape)            (None, 3)            0           embedding_16[0][0]               \n",
            "__________________________________________________________________________________________________\n",
            "reshape_17 (Reshape)            (None, 4)            0           embedding_17[0][0]               \n",
            "__________________________________________________________________________________________________\n",
            "reshape_18 (Reshape)            (None, 8)            0           embedding_18[0][0]               \n",
            "__________________________________________________________________________________________________\n",
            "reshape_19 (Reshape)            (None, 14)           0           embedding_19[0][0]               \n",
            "__________________________________________________________________________________________________\n",
            "reshape_20 (Reshape)            (None, 50)           0           embedding_20[0][0]               \n",
            "__________________________________________________________________________________________________\n",
            "reshape_21 (Reshape)            (None, 4)            0           embedding_21[0][0]               \n",
            "__________________________________________________________________________________________________\n",
            "reshape_22 (Reshape)            (None, 7)            0           embedding_22[0][0]               \n",
            "__________________________________________________________________________________________________\n",
            "concatenate (Concatenate)       (None, 369)          0           reshape[0][0]                    \n",
            "                                                                 reshape_1[0][0]                  \n",
            "                                                                 reshape_2[0][0]                  \n",
            "                                                                 reshape_3[0][0]                  \n",
            "                                                                 reshape_4[0][0]                  \n",
            "                                                                 reshape_5[0][0]                  \n",
            "                                                                 reshape_6[0][0]                  \n",
            "                                                                 reshape_7[0][0]                  \n",
            "                                                                 reshape_8[0][0]                  \n",
            "                                                                 reshape_9[0][0]                  \n",
            "                                                                 reshape_10[0][0]                 \n",
            "                                                                 reshape_11[0][0]                 \n",
            "                                                                 reshape_12[0][0]                 \n",
            "                                                                 reshape_13[0][0]                 \n",
            "                                                                 reshape_14[0][0]                 \n",
            "                                                                 reshape_15[0][0]                 \n",
            "                                                                 reshape_16[0][0]                 \n",
            "                                                                 reshape_17[0][0]                 \n",
            "                                                                 reshape_18[0][0]                 \n",
            "                                                                 reshape_19[0][0]                 \n",
            "                                                                 reshape_20[0][0]                 \n",
            "                                                                 reshape_21[0][0]                 \n",
            "                                                                 reshape_22[0][0]                 \n",
            "__________________________________________________________________________________________________\n",
            "dense (Dense)                   (None, 300)          111000      concatenate[0][0]                \n",
            "__________________________________________________________________________________________________\n",
            "dropout (Dropout)               (None, 300)          0           dense[0][0]                      \n",
            "__________________________________________________________________________________________________\n",
            "dense_1 (Dense)                 (None, 1)            301         dropout[0][0]                    \n",
            "==================================================================================================\n",
            "Total params: 392,340\n",
            "Trainable params: 392,340\n",
            "Non-trainable params: 0\n",
            "__________________________________________________________________________________________________\n"
          ],
          "name": "stdout"
        }
      ]
    },
    {
      "cell_type": "code",
      "metadata": {
        "id": "m7LRrm8EuZ-2",
        "colab_type": "code",
        "colab": {}
      },
      "source": [
        "model = get_model(train,features)\n",
        "model.compile(loss='binary_crossentropy',optimizer='adam', metrics=['accuracy'])"
      ],
      "execution_count": 0,
      "outputs": []
    },
    {
      "cell_type": "code",
      "metadata": {
        "id": "Bq_uQXoUwCqt",
        "colab_type": "code",
        "outputId": "9cc341a8-0d29-41c6-8703-a627a2f754a5",
        "colab": {
          "base_uri": "https://localhost:8080/",
          "height": 403
        }
      },
      "source": [
        "[train.head(10).loc[:,f].values for f in features]"
      ],
      "execution_count": 0,
      "outputs": [
        {
          "output_type": "execute_result",
          "data": {
            "text/plain": [
              "[array([0, 1, 0, 2, 0, 0, 0, 0, 0, 0]),\n",
              " array([0, 1, 1, 0, 2, 2, 0, 0, 0, 0]),\n",
              " array([0, 0, 0, 0, 0, 1, 0, 1, 0, 2]),\n",
              " array([0, 0, 0, 0, 1, 1, 0, 1, 0, 0]),\n",
              " array([0, 1, 0, 0, 0, 0, 0, 0, 0, 1]),\n",
              " array([2, 2, 2, 2, 2, 2, 2, 2, 0, 2]),\n",
              " array([4, 3, 6, 0, 5, 5, 5, 5, 1, 1]),\n",
              " array([3, 0, 3, 3, 3, 4, 3, 0, 3, 3]),\n",
              " array([5, 6, 0, 3, 2, 1, 2, 3, 5, 3]),\n",
              " array([0, 3, 0, 3, 4, 0, 0, 0, 1, 3]),\n",
              " array([1059,  210,  860,  477,  556,  766,  645,   83,    6,  754]),\n",
              " array([1013,  359,  694,  241,  361, 1059, 1222,  277, 1003, 1387]),\n",
              " array([ 87,  27,  90,  51, 182, 138,  25, 124,  64,  84]),\n",
              " array([  1,  69, 102, 170, 222,  93, 167, 169, 138,   2]),\n",
              " array([  27, 2112, 2218, 2167, 1747,   59,  692, 1464, 2218, 1086]),\n",
              " array([2, 2, 2, 0, 2, 1, 0, 2, 0, 2]),\n",
              " array([0, 2, 5, 4, 2, 1, 2, 1, 4, 0]),\n",
              " array([3, 5, 2, 4, 1, 3, 1, 1, 0, 4]),\n",
              " array([ 2,  4, 13,  0,  7,  1,  2,  1,  2, 13]),\n",
              " array([20, 23, 15,  2,  2, 16, 17, 24, 13,  8]),\n",
              " array([ 56, 151, 105, 140,  50, 181, 159,  54, 136,  50]),\n",
              " array([5, 6, 4, 2, 4, 2, 4, 0, 5, 0]),\n",
              " array([ 5,  9, 11,  5,  3,  6,  8,  0,  5, 10])]"
            ]
          },
          "metadata": {
            "tags": []
          },
          "execution_count": 101
        }
      ]
    },
    {
      "cell_type": "code",
      "metadata": {
        "id": "MuXnCLjJvxzd",
        "colab_type": "code",
        "outputId": "5de30368-caae-425f-eb64-bd961787e4de",
        "colab": {
          "base_uri": "https://localhost:8080/",
          "height": 202
        }
      },
      "source": [
        "model.fit([train.loc[:,f].values for f in features],\n",
        "          train.target.values,\n",
        "          batch_size=64,\n",
        "          epochs=5)"
      ],
      "execution_count": 23,
      "outputs": [
        {
          "output_type": "stream",
          "text": [
            "Epoch 1/5\n",
            "9375/9375 [==============================] - 89s 9ms/step - loss: 0.3925 - accuracy: 0.8293\n",
            "Epoch 2/5\n",
            "9375/9375 [==============================] - 88s 9ms/step - loss: 0.3801 - accuracy: 0.8353\n",
            "Epoch 3/5\n",
            "9375/9375 [==============================] - 88s 9ms/step - loss: 0.3666 - accuracy: 0.8431\n",
            "Epoch 4/5\n",
            "9375/9375 [==============================] - 86s 9ms/step - loss: 0.3522 - accuracy: 0.8500\n",
            "Epoch 5/5\n",
            "9375/9375 [==============================] - 86s 9ms/step - loss: 0.3374 - accuracy: 0.8570\n"
          ],
          "name": "stdout"
        },
        {
          "output_type": "execute_result",
          "data": {
            "text/plain": [
              "<tensorflow.python.keras.callbacks.History at 0x7fea296a63c8>"
            ]
          },
          "metadata": {
            "tags": []
          },
          "execution_count": 23
        }
      ]
    },
    {
      "cell_type": "code",
      "metadata": {
        "id": "ZZCaYklOwaqc",
        "colab_type": "code",
        "colab": {}
      },
      "source": [
        ""
      ],
      "execution_count": 0,
      "outputs": []
    }
  ]
}